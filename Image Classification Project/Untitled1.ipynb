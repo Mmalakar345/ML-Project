{
 "cells": [
  {
   "cell_type": "code",
   "execution_count": 1,
   "id": "9f160db7",
   "metadata": {},
   "outputs": [],
   "source": [
    "from tensorflow import keras \n",
    "from keras.models import Sequential\n",
    "from keras.layers import Convolution2D\n",
    "from keras.layers import MaxPooling2D\n",
    "from keras.layers import Flatten\n",
    "from keras.layers import Dense"
   ]
  },
  {
   "cell_type": "code",
   "execution_count": 2,
   "id": "38e798e3",
   "metadata": {},
   "outputs": [],
   "source": [
    "# Initialising the CNN\n",
    "classifier = Sequential()\n",
    " \n",
    "# Step 1 - Convolution\n",
    "classifier.add(Convolution2D(32, 3, 3, \n",
    "        input_shape = (64, 64, 3), activation = 'relu'))\n",
    "# Step 2 - Pooling\n",
    "classifier.add(MaxPooling2D(pool_size = (2, 2)))\n",
    " \n",
    "# Adding a second convolutional layer\n",
    "classifier.add(Convolution2D(32, 3, 3, activation = 'relu'))\n",
    "classifier.add(MaxPooling2D(pool_size = (2, 2)))\n",
    " \n",
    "# Step 3 - Flattening\n",
    "classifier.add(Flatten())\n",
    " \n",
    "# Step 4 - Full connection\n",
    "classifier.add(Dense(1, activation = 'relu'))\n",
    "classifier.add(Dense(1, activation = 'sigmoid'))\n",
    " \n",
    "# Compiling the CNN\n",
    "classifier.compile(optimizer = 'adam', \n",
    "                   loss = 'binary_crossentropy',\n",
    "                   metrics = ['accuracy'])"
   ]
  },
  {
   "cell_type": "markdown",
   "id": "3249f2aa",
   "metadata": {},
   "source": [
    "###### FITTING IMAGE TO CNN ######"
   ]
  },
  {
   "cell_type": "code",
   "execution_count": 3,
   "id": "3380c6a4",
   "metadata": {},
   "outputs": [
    {
     "name": "stdout",
     "output_type": "stream",
     "text": [
      "Found 1792 images belonging to 2 classes.\n",
      "Found 2000 images belonging to 2 classes.\n"
     ]
    },
    {
     "ename": "NameError",
     "evalue": "name 'classifier' is not defined",
     "output_type": "error",
     "traceback": [
      "\u001b[1;31m---------------------------------------------------------------------------\u001b[0m",
      "\u001b[1;31mNameError\u001b[0m                                 Traceback (most recent call last)",
      "\u001b[1;32mc:\\Users\\avima\\Programming\\MAchine Learning\\Image Classification Project\\Untitled1.ipynb Cell 4\u001b[0m in \u001b[0;36m<cell line: 21>\u001b[1;34m()\u001b[0m\n\u001b[0;32m     <a href='vscode-notebook-cell:/c%3A/Users/avima/Programming/MAchine%20Learning/Image%20Classification%20Project/Untitled1.ipynb#ch0000003?line=10'>11</a>\u001b[0m training_set \u001b[39m=\u001b[39m train_datagen\u001b[39m.\u001b[39mflow_from_directory(\u001b[39m'\u001b[39m\u001b[39mdataset/training_set\u001b[39m\u001b[39m'\u001b[39m,\n\u001b[0;32m     <a href='vscode-notebook-cell:/c%3A/Users/avima/Programming/MAchine%20Learning/Image%20Classification%20Project/Untitled1.ipynb#ch0000003?line=11'>12</a>\u001b[0m                                                  target_size \u001b[39m=\u001b[39m (\u001b[39m64\u001b[39m, \u001b[39m64\u001b[39m),\n\u001b[0;32m     <a href='vscode-notebook-cell:/c%3A/Users/avima/Programming/MAchine%20Learning/Image%20Classification%20Project/Untitled1.ipynb#ch0000003?line=12'>13</a>\u001b[0m                                                  batch_size \u001b[39m=\u001b[39m \u001b[39m32\u001b[39m,\n\u001b[0;32m     <a href='vscode-notebook-cell:/c%3A/Users/avima/Programming/MAchine%20Learning/Image%20Classification%20Project/Untitled1.ipynb#ch0000003?line=13'>14</a>\u001b[0m                                                  class_mode \u001b[39m=\u001b[39m \u001b[39m'\u001b[39m\u001b[39mbinary\u001b[39m\u001b[39m'\u001b[39m)\n\u001b[0;32m     <a href='vscode-notebook-cell:/c%3A/Users/avima/Programming/MAchine%20Learning/Image%20Classification%20Project/Untitled1.ipynb#ch0000003?line=15'>16</a>\u001b[0m test_set \u001b[39m=\u001b[39m test_datagen\u001b[39m.\u001b[39mflow_from_directory(\u001b[39m'\u001b[39m\u001b[39mdataset/test_set\u001b[39m\u001b[39m'\u001b[39m,\n\u001b[0;32m     <a href='vscode-notebook-cell:/c%3A/Users/avima/Programming/MAchine%20Learning/Image%20Classification%20Project/Untitled1.ipynb#ch0000003?line=16'>17</a>\u001b[0m                                             target_size \u001b[39m=\u001b[39m (\u001b[39m64\u001b[39m, \u001b[39m64\u001b[39m),\n\u001b[0;32m     <a href='vscode-notebook-cell:/c%3A/Users/avima/Programming/MAchine%20Learning/Image%20Classification%20Project/Untitled1.ipynb#ch0000003?line=17'>18</a>\u001b[0m                                             batch_size \u001b[39m=\u001b[39m \u001b[39m32\u001b[39m,\n\u001b[0;32m     <a href='vscode-notebook-cell:/c%3A/Users/avima/Programming/MAchine%20Learning/Image%20Classification%20Project/Untitled1.ipynb#ch0000003?line=18'>19</a>\u001b[0m                                             class_mode \u001b[39m=\u001b[39m \u001b[39m'\u001b[39m\u001b[39mbinary\u001b[39m\u001b[39m'\u001b[39m)\n\u001b[1;32m---> <a href='vscode-notebook-cell:/c%3A/Users/avima/Programming/MAchine%20Learning/Image%20Classification%20Project/Untitled1.ipynb#ch0000003?line=20'>21</a>\u001b[0m classifier\u001b[39m.\u001b[39mfit_generator(training_set,\n\u001b[0;32m     <a href='vscode-notebook-cell:/c%3A/Users/avima/Programming/MAchine%20Learning/Image%20Classification%20Project/Untitled1.ipynb#ch0000003?line=21'>22</a>\u001b[0m                          steps_per_epoch \u001b[39m=\u001b[39m (\u001b[39m1792\u001b[39m\u001b[39m/\u001b[39m\u001b[39m32\u001b[39m),\n\u001b[0;32m     <a href='vscode-notebook-cell:/c%3A/Users/avima/Programming/MAchine%20Learning/Image%20Classification%20Project/Untitled1.ipynb#ch0000003?line=22'>23</a>\u001b[0m                          epochs \u001b[39m=\u001b[39m \u001b[39m8\u001b[39m,\n\u001b[0;32m     <a href='vscode-notebook-cell:/c%3A/Users/avima/Programming/MAchine%20Learning/Image%20Classification%20Project/Untitled1.ipynb#ch0000003?line=23'>24</a>\u001b[0m                          validation_data \u001b[39m=\u001b[39m test_set,\n\u001b[0;32m     <a href='vscode-notebook-cell:/c%3A/Users/avima/Programming/MAchine%20Learning/Image%20Classification%20Project/Untitled1.ipynb#ch0000003?line=24'>25</a>\u001b[0m                          validation_steps \u001b[39m=\u001b[39m (\u001b[39m2000\u001b[39m\u001b[39m/\u001b[39m\u001b[39m32\u001b[39m))\n\u001b[0;32m     <a href='vscode-notebook-cell:/c%3A/Users/avima/Programming/MAchine%20Learning/Image%20Classification%20Project/Untitled1.ipynb#ch0000003?line=27'>28</a>\u001b[0m class_labels \u001b[39m=\u001b[39m {v: k \u001b[39mfor\u001b[39;00m k, v \u001b[39min\u001b[39;00m training_set\u001b[39m.\u001b[39mclass_indices\u001b[39m.\u001b[39mitems()}\n\u001b[0;32m     <a href='vscode-notebook-cell:/c%3A/Users/avima/Programming/MAchine%20Learning/Image%20Classification%20Project/Untitled1.ipynb#ch0000003?line=28'>29</a>\u001b[0m \u001b[39mprint\u001b[39m(class_labels)\n",
      "\u001b[1;31mNameError\u001b[0m: name 'classifier' is not defined"
     ]
    }
   ],
   "source": [
    "from keras.preprocessing.image import ImageDataGenerator\n",
    " \n",
    "train_datagen = ImageDataGenerator(rescale = 1./255,\n",
    "                                   shear_range = 0.2,\n",
    "                                   zoom_range = 0.2,\n",
    "                                   horizontal_flip = True)\n",
    " \n",
    "test_datagen = ImageDataGenerator(rescale = 1./255)\n",
    "\n",
    "\n",
    "training_set = train_datagen.flow_from_directory('dataset/training_set',\n",
    "                                                 target_size = (64, 64),\n",
    "                                                 batch_size = 32,\n",
    "                                                 class_mode = 'binary')\n",
    " \n",
    "test_set = test_datagen.flow_from_directory('dataset/test_set',\n",
    "                                            target_size = (64, 64),\n",
    "                                            batch_size = 32,\n",
    "                                            class_mode = 'binary')\n",
    "\n",
    "classifier.fit_generator(training_set,\n",
    "                         steps_per_epoch = (1792/32),\n",
    "                         epochs = 8,\n",
    "                         validation_data = test_set,\n",
    "                         validation_steps = (2000/32))\n",
    "\n",
    "\n",
    "class_labels = {v: k for k, v in training_set.class_indices.items()}\n",
    "print(class_labels)"
   ]
  },
  {
   "cell_type": "code",
   "execution_count": 4,
   "id": "14ffc413",
   "metadata": {},
   "outputs": [
    {
     "name": "stdout",
     "output_type": "stream",
     "text": [
      "1/1 [==============================] - 0s 150ms/step\n",
      "It is a dog\n"
     ]
    }
   ],
   "source": [
    "######Predicting the Image############\n",
    "from skimage.io import imread\n",
    "from skimage.transform import resize\n",
    "import numpy as np\n",
    " \n",
    "\n",
    "img = imread('download.jpeg') \n",
    "img = resize(img,(64,64)) \n",
    "img = np.expand_dims(img,axis=0) \n",
    "#prediction = classifier.predict_classes(img)\n",
    "prediction = (classifier.predict(img) > 0.5).astype(\"int32\")\n",
    "#print(prediction)\n",
    "if prediction[0][0]==1:\n",
    "    print(\"It is a dog\")\n",
    "elif prediction[0][0]==0:\n",
    "    print(\"It is a cat\")\n",
    "    "
   ]
  }
 ],
 "metadata": {
  "kernelspec": {
   "display_name": "Python 3 (ipykernel)",
   "language": "python",
   "name": "python3"
  },
  "language_info": {
   "codemirror_mode": {
    "name": "ipython",
    "version": 3
   },
   "file_extension": ".py",
   "mimetype": "text/x-python",
   "name": "python",
   "nbconvert_exporter": "python",
   "pygments_lexer": "ipython3",
   "version": "3.10.4"
  },
  "vscode": {
   "interpreter": {
    "hash": "e8611ba474e350a0399ae94f7282f2178103cf7d749d52b839292cbee80d3a1d"
   }
  }
 },
 "nbformat": 4,
 "nbformat_minor": 5
}
